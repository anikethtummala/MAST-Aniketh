{
 "cells": [
  {
   "cell_type": "code",
   "execution_count": 1,
   "metadata": {},
   "outputs": [],
   "source": [
    "from glob import glob\n",
    "from json import load as json_load, dump as json_dump\n",
    "from pandas import DataFrame, concat\n",
    "from csv import QUOTE_ALL"
   ]
  },
  {
   "cell_type": "code",
   "execution_count": 2,
   "metadata": {},
   "outputs": [],
   "source": [
    "list_annotations = []\n",
    "for j, fp in enumerate(glob(\"*_human.json\")):\n",
    "    c = json_load(open(fp, \"r\"))\n",
    "    dict_out = {\n",
    "        \"instance_id\": c[\"instance_id\"], \n",
    "        \"link\": \"https://github.com/LakshyAAAgrawal/MultiAgentFailureTaxonomyAnnotations/blob/main/HyperAgent/\" + c[\"instance_id\"] + \"_human.json\", \n",
    "        \"text\": c[\"note\"][\"text\"][0]\n",
    "    }\n",
    "    for k in c[\"note\"][\"options\"].keys():\n",
    "        dict_out[k] = c[\"note\"][\"options\"][k]\n",
    "    list_annotations.append(DataFrame(dict_out, index=[j]))\n",
    "df = concat(list_annotations)\n",
    "df = df.fillna(\"no\")"
   ]
  },
  {
   "cell_type": "code",
   "execution_count": 3,
   "metadata": {},
   "outputs": [],
   "source": [
    "df.to_csv(\"annotations.csv\", quoting=QUOTE_ALL)"
   ]
  },
  {
   "cell_type": "code",
   "execution_count": null,
   "metadata": {},
   "outputs": [],
   "source": []
  }
 ],
 "metadata": {
  "kernelspec": {
   "display_name": "base",
   "language": "python",
   "name": "python3"
  },
  "language_info": {
   "codemirror_mode": {
    "name": "ipython",
    "version": 3
   },
   "file_extension": ".py",
   "mimetype": "text/x-python",
   "name": "python",
   "nbconvert_exporter": "python",
   "pygments_lexer": "ipython3",
   "version": "3.12.4"
  }
 },
 "nbformat": 4,
 "nbformat_minor": 2
}
